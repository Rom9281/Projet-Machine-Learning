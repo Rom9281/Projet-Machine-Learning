{
 "cells": [
  {
   "cell_type": "markdown",
   "metadata": {},
   "source": [
    "# Projet ML\n",
    "GAUD - CURRAL - GALMIER"
   ]
  },
  {
   "cell_type": "markdown",
   "metadata": {},
   "source": [
    "## Libraries"
   ]
  },
  {
   "cell_type": "markdown",
   "metadata": {},
   "source": [
    "### Installation"
   ]
  },
  {
   "cell_type": "code",
   "execution_count": 1,
   "metadata": {},
   "outputs": [
    {
     "name": "stdout",
     "output_type": "stream",
     "text": [
      "Requirement already satisfied: tensorflow in c:\\users\\romai\\appdata\\local\\packages\\pythonsoftwarefoundation.python.3.10_qbz5n2kfra8p0\\localcache\\local-packages\\python310\\site-packages (2.15.0)\n",
      "Requirement already satisfied: tensorflow-intel==2.15.0 in c:\\users\\romai\\appdata\\local\\packages\\pythonsoftwarefoundation.python.3.10_qbz5n2kfra8p0\\localcache\\local-packages\\python310\\site-packages (from tensorflow) (2.15.0)\n",
      "Requirement already satisfied: absl-py>=1.0.0 in c:\\users\\romai\\appdata\\local\\packages\\pythonsoftwarefoundation.python.3.10_qbz5n2kfra8p0\\localcache\\local-packages\\python310\\site-packages (from tensorflow-intel==2.15.0->tensorflow) (2.0.0)\n",
      "Requirement already satisfied: astunparse>=1.6.0 in c:\\users\\romai\\appdata\\local\\packages\\pythonsoftwarefoundation.python.3.10_qbz5n2kfra8p0\\localcache\\local-packages\\python310\\site-packages (from tensorflow-intel==2.15.0->tensorflow) (1.6.3)\n",
      "Requirement already satisfied: flatbuffers>=23.5.26 in c:\\users\\romai\\appdata\\local\\packages\\pythonsoftwarefoundation.python.3.10_qbz5n2kfra8p0\\localcache\\local-packages\\python310\\site-packages (from tensorflow-intel==2.15.0->tensorflow) (23.5.26)\n",
      "Requirement already satisfied: gast!=0.5.0,!=0.5.1,!=0.5.2,>=0.2.1 in c:\\users\\romai\\appdata\\local\\packages\\pythonsoftwarefoundation.python.3.10_qbz5n2kfra8p0\\localcache\\local-packages\\python310\\site-packages (from tensorflow-intel==2.15.0->tensorflow) (0.5.4)\n",
      "Requirement already satisfied: google-pasta>=0.1.1 in c:\\users\\romai\\appdata\\local\\packages\\pythonsoftwarefoundation.python.3.10_qbz5n2kfra8p0\\localcache\\local-packages\\python310\\site-packages (from tensorflow-intel==2.15.0->tensorflow) (0.2.0)\n",
      "Requirement already satisfied: h5py>=2.9.0 in c:\\users\\romai\\appdata\\local\\packages\\pythonsoftwarefoundation.python.3.10_qbz5n2kfra8p0\\localcache\\local-packages\\python310\\site-packages (from tensorflow-intel==2.15.0->tensorflow) (3.10.0)\n",
      "Requirement already satisfied: libclang>=13.0.0 in c:\\users\\romai\\appdata\\local\\packages\\pythonsoftwarefoundation.python.3.10_qbz5n2kfra8p0\\localcache\\local-packages\\python310\\site-packages (from tensorflow-intel==2.15.0->tensorflow) (16.0.6)\n",
      "Requirement already satisfied: ml-dtypes~=0.2.0 in c:\\users\\romai\\appdata\\local\\packages\\pythonsoftwarefoundation.python.3.10_qbz5n2kfra8p0\\localcache\\local-packages\\python310\\site-packages (from tensorflow-intel==2.15.0->tensorflow) (0.2.0)\n",
      "Requirement already satisfied: numpy<2.0.0,>=1.23.5 in c:\\users\\romai\\appdata\\local\\packages\\pythonsoftwarefoundation.python.3.10_qbz5n2kfra8p0\\localcache\\local-packages\\python310\\site-packages (from tensorflow-intel==2.15.0->tensorflow) (1.26.1)\n",
      "Requirement already satisfied: opt-einsum>=2.3.2 in c:\\users\\romai\\appdata\\local\\packages\\pythonsoftwarefoundation.python.3.10_qbz5n2kfra8p0\\localcache\\local-packages\\python310\\site-packages (from tensorflow-intel==2.15.0->tensorflow) (3.3.0)\n",
      "Requirement already satisfied: packaging in c:\\users\\romai\\appdata\\local\\packages\\pythonsoftwarefoundation.python.3.10_qbz5n2kfra8p0\\localcache\\local-packages\\python310\\site-packages (from tensorflow-intel==2.15.0->tensorflow) (21.3)\n",
      "Requirement already satisfied: protobuf!=4.21.0,!=4.21.1,!=4.21.2,!=4.21.3,!=4.21.4,!=4.21.5,<5.0.0dev,>=3.20.3 in c:\\users\\romai\\appdata\\local\\packages\\pythonsoftwarefoundation.python.3.10_qbz5n2kfra8p0\\localcache\\local-packages\\python310\\site-packages (from tensorflow-intel==2.15.0->tensorflow) (4.23.4)\n",
      "Requirement already satisfied: setuptools in c:\\program files\\windowsapps\\pythonsoftwarefoundation.python.3.10_3.10.3056.0_x64__qbz5n2kfra8p0\\lib\\site-packages (from tensorflow-intel==2.15.0->tensorflow) (65.5.0)\n",
      "Requirement already satisfied: six>=1.12.0 in c:\\users\\romai\\appdata\\local\\packages\\pythonsoftwarefoundation.python.3.10_qbz5n2kfra8p0\\localcache\\local-packages\\python310\\site-packages (from tensorflow-intel==2.15.0->tensorflow) (1.16.0)\n",
      "Requirement already satisfied: termcolor>=1.1.0 in c:\\users\\romai\\appdata\\local\\packages\\pythonsoftwarefoundation.python.3.10_qbz5n2kfra8p0\\localcache\\local-packages\\python310\\site-packages (from tensorflow-intel==2.15.0->tensorflow) (2.4.0)\n",
      "Requirement already satisfied: typing-extensions>=3.6.6 in c:\\users\\romai\\appdata\\local\\packages\\pythonsoftwarefoundation.python.3.10_qbz5n2kfra8p0\\localcache\\local-packages\\python310\\site-packages (from tensorflow-intel==2.15.0->tensorflow) (4.8.0)\n",
      "Requirement already satisfied: wrapt<1.15,>=1.11.0 in c:\\users\\romai\\appdata\\local\\packages\\pythonsoftwarefoundation.python.3.10_qbz5n2kfra8p0\\localcache\\local-packages\\python310\\site-packages (from tensorflow-intel==2.15.0->tensorflow) (1.14.1)\n",
      "Requirement already satisfied: tensorflow-io-gcs-filesystem>=0.23.1 in c:\\users\\romai\\appdata\\local\\packages\\pythonsoftwarefoundation.python.3.10_qbz5n2kfra8p0\\localcache\\local-packages\\python310\\site-packages (from tensorflow-intel==2.15.0->tensorflow) (0.31.0)\n",
      "Requirement already satisfied: grpcio<2.0,>=1.24.3 in c:\\users\\romai\\appdata\\local\\packages\\pythonsoftwarefoundation.python.3.10_qbz5n2kfra8p0\\localcache\\local-packages\\python310\\site-packages (from tensorflow-intel==2.15.0->tensorflow) (1.59.3)\n",
      "Requirement already satisfied: tensorboard<2.16,>=2.15 in c:\\users\\romai\\appdata\\local\\packages\\pythonsoftwarefoundation.python.3.10_qbz5n2kfra8p0\\localcache\\local-packages\\python310\\site-packages (from tensorflow-intel==2.15.0->tensorflow) (2.15.1)\n",
      "Requirement already satisfied: tensorflow-estimator<2.16,>=2.15.0 in c:\\users\\romai\\appdata\\local\\packages\\pythonsoftwarefoundation.python.3.10_qbz5n2kfra8p0\\localcache\\local-packages\\python310\\site-packages (from tensorflow-intel==2.15.0->tensorflow) (2.15.0)\n",
      "Requirement already satisfied: keras<2.16,>=2.15.0 in c:\\users\\romai\\appdata\\local\\packages\\pythonsoftwarefoundation.python.3.10_qbz5n2kfra8p0\\localcache\\local-packages\\python310\\site-packages (from tensorflow-intel==2.15.0->tensorflow) (2.15.0)\n",
      "Requirement already satisfied: wheel<1.0,>=0.23.0 in c:\\users\\romai\\appdata\\local\\packages\\pythonsoftwarefoundation.python.3.10_qbz5n2kfra8p0\\localcache\\local-packages\\python310\\site-packages (from astunparse>=1.6.0->tensorflow-intel==2.15.0->tensorflow) (0.42.0)\n",
      "Requirement already satisfied: google-auth<3,>=1.6.3 in c:\\users\\romai\\appdata\\local\\packages\\pythonsoftwarefoundation.python.3.10_qbz5n2kfra8p0\\localcache\\local-packages\\python310\\site-packages (from tensorboard<2.16,>=2.15->tensorflow-intel==2.15.0->tensorflow) (2.24.0)\n",
      "Requirement already satisfied: google-auth-oauthlib<2,>=0.5 in c:\\users\\romai\\appdata\\local\\packages\\pythonsoftwarefoundation.python.3.10_qbz5n2kfra8p0\\localcache\\local-packages\\python310\\site-packages (from tensorboard<2.16,>=2.15->tensorflow-intel==2.15.0->tensorflow) (1.1.0)\n",
      "Requirement already satisfied: markdown>=2.6.8 in c:\\users\\romai\\appdata\\local\\packages\\pythonsoftwarefoundation.python.3.10_qbz5n2kfra8p0\\localcache\\local-packages\\python310\\site-packages (from tensorboard<2.16,>=2.15->tensorflow-intel==2.15.0->tensorflow) (3.5.1)\n",
      "Requirement already satisfied: requests<3,>=2.21.0 in c:\\users\\romai\\appdata\\local\\packages\\pythonsoftwarefoundation.python.3.10_qbz5n2kfra8p0\\localcache\\local-packages\\python310\\site-packages (from tensorboard<2.16,>=2.15->tensorflow-intel==2.15.0->tensorflow) (2.31.0)\n",
      "Requirement already satisfied: tensorboard-data-server<0.8.0,>=0.7.0 in c:\\users\\romai\\appdata\\local\\packages\\pythonsoftwarefoundation.python.3.10_qbz5n2kfra8p0\\localcache\\local-packages\\python310\\site-packages (from tensorboard<2.16,>=2.15->tensorflow-intel==2.15.0->tensorflow) (0.7.2)\n",
      "Requirement already satisfied: werkzeug>=1.0.1 in c:\\users\\romai\\appdata\\local\\packages\\pythonsoftwarefoundation.python.3.10_qbz5n2kfra8p0\\localcache\\local-packages\\python310\\site-packages (from tensorboard<2.16,>=2.15->tensorflow-intel==2.15.0->tensorflow) (2.1.2)\n",
      "Requirement already satisfied: pyparsing!=3.0.5,>=2.0.2 in c:\\users\\romai\\appdata\\local\\packages\\pythonsoftwarefoundation.python.3.10_qbz5n2kfra8p0\\localcache\\local-packages\\python310\\site-packages (from packaging->tensorflow-intel==2.15.0->tensorflow) (3.0.7)\n",
      "Requirement already satisfied: cachetools<6.0,>=2.0.0 in c:\\users\\romai\\appdata\\local\\packages\\pythonsoftwarefoundation.python.3.10_qbz5n2kfra8p0\\localcache\\local-packages\\python310\\site-packages (from google-auth<3,>=1.6.3->tensorboard<2.16,>=2.15->tensorflow-intel==2.15.0->tensorflow) (5.3.2)\n",
      "Requirement already satisfied: pyasn1-modules>=0.2.1 in c:\\users\\romai\\appdata\\local\\packages\\pythonsoftwarefoundation.python.3.10_qbz5n2kfra8p0\\localcache\\local-packages\\python310\\site-packages (from google-auth<3,>=1.6.3->tensorboard<2.16,>=2.15->tensorflow-intel==2.15.0->tensorflow) (0.3.0)\n",
      "Requirement already satisfied: rsa<5,>=3.1.4 in c:\\users\\romai\\appdata\\local\\packages\\pythonsoftwarefoundation.python.3.10_qbz5n2kfra8p0\\localcache\\local-packages\\python310\\site-packages (from google-auth<3,>=1.6.3->tensorboard<2.16,>=2.15->tensorflow-intel==2.15.0->tensorflow) (4.9)\n",
      "Requirement already satisfied: requests-oauthlib>=0.7.0 in c:\\users\\romai\\appdata\\local\\packages\\pythonsoftwarefoundation.python.3.10_qbz5n2kfra8p0\\localcache\\local-packages\\python310\\site-packages (from google-auth-oauthlib<2,>=0.5->tensorboard<2.16,>=2.15->tensorflow-intel==2.15.0->tensorflow) (1.3.1)\n",
      "Requirement already satisfied: charset-normalizer<4,>=2 in c:\\users\\romai\\appdata\\local\\packages\\pythonsoftwarefoundation.python.3.10_qbz5n2kfra8p0\\localcache\\local-packages\\python310\\site-packages (from requests<3,>=2.21.0->tensorboard<2.16,>=2.15->tensorflow-intel==2.15.0->tensorflow) (3.3.1)\n",
      "Requirement already satisfied: idna<4,>=2.5 in c:\\users\\romai\\appdata\\local\\packages\\pythonsoftwarefoundation.python.3.10_qbz5n2kfra8p0\\localcache\\local-packages\\python310\\site-packages (from requests<3,>=2.21.0->tensorboard<2.16,>=2.15->tensorflow-intel==2.15.0->tensorflow) (3.4)\n",
      "Requirement already satisfied: urllib3<3,>=1.21.1 in c:\\users\\romai\\appdata\\local\\packages\\pythonsoftwarefoundation.python.3.10_qbz5n2kfra8p0\\localcache\\local-packages\\python310\\site-packages (from requests<3,>=2.21.0->tensorboard<2.16,>=2.15->tensorflow-intel==2.15.0->tensorflow) (2.0.7)\n",
      "Requirement already satisfied: certifi>=2017.4.17 in c:\\users\\romai\\appdata\\local\\packages\\pythonsoftwarefoundation.python.3.10_qbz5n2kfra8p0\\localcache\\local-packages\\python310\\site-packages (from requests<3,>=2.21.0->tensorboard<2.16,>=2.15->tensorflow-intel==2.15.0->tensorflow) (2023.7.22)\n",
      "Requirement already satisfied: pyasn1<0.6.0,>=0.4.6 in c:\\users\\romai\\appdata\\local\\packages\\pythonsoftwarefoundation.python.3.10_qbz5n2kfra8p0\\localcache\\local-packages\\python310\\site-packages (from pyasn1-modules>=0.2.1->google-auth<3,>=1.6.3->tensorboard<2.16,>=2.15->tensorflow-intel==2.15.0->tensorflow) (0.5.1)\n",
      "Requirement already satisfied: oauthlib>=3.0.0 in c:\\users\\romai\\appdata\\local\\packages\\pythonsoftwarefoundation.python.3.10_qbz5n2kfra8p0\\localcache\\local-packages\\python310\\site-packages (from requests-oauthlib>=0.7.0->google-auth-oauthlib<2,>=0.5->tensorboard<2.16,>=2.15->tensorflow-intel==2.15.0->tensorflow) (3.2.2)\n"
     ]
    },
    {
     "name": "stderr",
     "output_type": "stream",
     "text": [
      "WARNING: Ignoring invalid distribution -umpy (c:\\users\\romai\\appdata\\local\\packages\\pythonsoftwarefoundation.python.3.10_qbz5n2kfra8p0\\localcache\\local-packages\\python310\\site-packages)\n",
      "WARNING: Ignoring invalid distribution -umpy (c:\\users\\romai\\appdata\\local\\packages\\pythonsoftwarefoundation.python.3.10_qbz5n2kfra8p0\\localcache\\local-packages\\python310\\site-packages)\n",
      "WARNING: Ignoring invalid distribution -umpy (c:\\users\\romai\\appdata\\local\\packages\\pythonsoftwarefoundation.python.3.10_qbz5n2kfra8p0\\localcache\\local-packages\\python310\\site-packages)\n",
      "WARNING: Ignoring invalid distribution -umpy (c:\\users\\romai\\appdata\\local\\packages\\pythonsoftwarefoundation.python.3.10_qbz5n2kfra8p0\\localcache\\local-packages\\python310\\site-packages)\n"
     ]
    }
   ],
   "source": [
    "! pip install tensorflow"
   ]
  },
  {
   "cell_type": "markdown",
   "metadata": {},
   "source": [
    "### Import"
   ]
  },
  {
   "cell_type": "code",
   "execution_count": 2,
   "metadata": {},
   "outputs": [
    {
     "name": "stdout",
     "output_type": "stream",
     "text": [
      "WARNING:tensorflow:From C:\\Users\\romai\\AppData\\Local\\Packages\\PythonSoftwareFoundation.Python.3.10_qbz5n2kfra8p0\\LocalCache\\local-packages\\Python310\\site-packages\\keras\\src\\losses.py:2976: The name tf.losses.sparse_softmax_cross_entropy is deprecated. Please use tf.compat.v1.losses.sparse_softmax_cross_entropy instead.\n",
      "\n"
     ]
    }
   ],
   "source": [
    "import numpy as np\n",
    "import tensorflow as tf\n",
    "from glob import glob\n",
    "from tensorflow import audio\n",
    "\n",
    "\n",
    "# import required modules \n",
    "import os"
   ]
  },
  {
   "cell_type": "markdown",
   "metadata": {},
   "source": [
    "### Variables"
   ]
  },
  {
   "cell_type": "code",
   "execution_count": 3,
   "metadata": {},
   "outputs": [],
   "source": [
    "TEST_DATA_PATH = r'C:\\Users\\romai\\OneDrive\\Documents\\Scolaire\\CPE\\5A\\IA\\Projet-Machine-Learning\\Data\\test'"
   ]
  },
  {
   "cell_type": "markdown",
   "metadata": {},
   "source": [
    "# Code"
   ]
  },
  {
   "cell_type": "code",
   "execution_count": 4,
   "metadata": {},
   "outputs": [
    {
     "name": "stdout",
     "output_type": "stream",
     "text": [
      "['Asian Koel', 'Black Kite', 'Black-breasted Parrotbill', 'Black-necked crane', 'Bristled Grassbird', 'Cheer Pheasant', 'Common Cuckoo', 'Common Pochard', 'Common Wood Pigeon', 'Eastern Imperial Eagle', 'Egyptian Vulture', 'Great Slaty Woodpecker', 'Greater Spotted Eagle', 'Grey Treepie', 'Grey-crowned Prinia', 'Grey-sided Thrush', 'Himalayan Monal', 'House Crow', 'House Sparrow', 'Indian Spotted Eagle', 'Jerdon_s Babbler', 'Kashmir Flycatcher', 'Large-billed Crow', 'Long-tailed Duck', 'Pallas_s Fish Eagle', 'Red-billed Blue Magpie', 'Rose-ringed Parakeet', 'Rufous Treepie', 'Rufous-necked Hornbill', 'Rustic Bunting', 'Saker Falcon', 'Sarus Crane', 'Satyr Tragopan', 'Slender-billed Babbler', 'Spiny Babbler', 'Spotted Dove', 'Steppe Eagle', 'Swamp Francolin', 'Swamp Grass-babbler', 'White-throated Bushchat', 'Wood Snipe']\n"
     ]
    }
   ],
   "source": [
    "from os import listdir\n",
    "\n",
    "foldersInTest = list(listdir(TEST_DATA_PATH))\n",
    "print(foldersInTest)"
   ]
  },
  {
   "cell_type": "code",
   "execution_count": 5,
   "metadata": {},
   "outputs": [
    {
     "name": "stdout",
     "output_type": "stream",
     "text": [
      "{'XC161198 1': 'Asian Koel', 'XC162828 0': 'Asian Koel', 'XC179229 8': 'Asian Koel', 'XC182810 0': 'Asian Koel', 'XC196583 0': 'Asian Koel', 'XC196584 1': 'Asian Koel', 'XC236515 1': 'Asian Koel', 'XC311271 0': 'Asian Koel', 'XC314339 1': 'Asian Koel', 'XC327430 1': 'Asian Koel', 'XC327430 2': 'Asian Koel', 'XC332698 1': 'Asian Koel', 'XC359129 0': 'Asian Koel', 'XC365421 0': 'Asian Koel', 'XC369205 0': 'Asian Koel', 'XC369205 2': 'Asian Koel', 'XC412822 1': 'Asian Koel', 'XC416848 original': 'Asian Koel', 'XC426536 7': 'Asian Koel', 'XC446387 10': 'Asian Koel', 'XC454504 0': 'Asian Koel', 'XC461162 0': 'Asian Koel', 'XC461634 original': 'Asian Koel', 'XC531612 1': 'Asian Koel', 'XC576721 8': 'Asian Koel', 'XC578005 original': 'Asian Koel', 'XC591315 3': 'Asian Koel', 'XC591315 5': 'Asian Koel', 'XC594949 1': 'Asian Koel', 'XC594949 23': 'Asian Koel', 'XC594949 4': 'Asian Koel', 'XC594949 42': 'Asian Koel', 'XC594949 43': 'Asian Koel', 'XC594951 0': 'Asian Koel', 'XC635320 0': 'Asian Koel', 'XC717549 3': 'Asian Koel', 'XC722516 0': 'Asian Koel', 'XC268754 0': 'Black Kite', 'XC309400 0': 'Black Kite', 'XC372290 0': 'Black Kite', 'XC406799 1': 'Black Kite', 'XC430830 0': 'Black Kite', 'XC430830 4': 'Black Kite', 'XC464419 2': 'Black Kite', 'XC477874 13': 'Black Kite', 'XC477874 19': 'Black Kite', 'XC477874 22': 'Black Kite', 'XC477874 23': 'Black Kite', 'XC477874 26': 'Black Kite', 'XC477874 29': 'Black Kite', 'XC478264 original': 'Black Kite', 'XC482564 10': 'Black Kite', 'XC482564 12': 'Black Kite', 'XC483222 1': 'Black Kite', 'XC483228 5': 'Black Kite', 'XC485739 0': 'Black Kite', 'XC489015 original': 'Black Kite', 'XC493737 0': 'Black Kite', 'XC493737 3': 'Black Kite', 'XC493737 7': 'Black Kite', 'XC495362 3': 'Black Kite', 'XC511559 8': 'Black Kite', 'XC539037 0': 'Black Kite', 'XC543161 original': 'Black Kite', 'XC543707 18': 'Black Kite', 'XC545928 1': 'Black Kite', 'XC566222 4': 'Black Kite', 'XC572731 2': 'Black Kite', 'XC572731 4': 'Black Kite', 'XC577174 original': 'Black Kite', 'XC636323 original': 'Black Kite', 'XC640160 0': 'Black Kite', 'XC686908 original': 'Black Kite', 'XC719785 3': 'Black Kite', 'XC121336 3': 'Black-breasted Parrotbill', 'XC19203 -1': 'Black-breasted Parrotbill', 'XC21858 -0': 'Black-breasted Parrotbill', 'XC79466 -0': 'Black-breasted Parrotbill', 'XC114683 9': 'Black-necked crane', 'XC37414 -6': 'Black-necked crane', 'XC491273 0': 'Black-necked crane', 'XC491273 5': 'Black-necked crane', 'XC491274 1': 'Black-necked crane', 'XC516131 3': 'Black-necked crane', 'XC516276 1': 'Black-necked crane', 'XC516278 8': 'Black-necked crane', 'XC516283 16': 'Black-necked crane', 'XC516283 22': 'Black-necked crane', 'XC81461 -7': 'Black-necked crane', 'XC255715 3': 'Bristled Grassbird', 'XC265238 3': 'Bristled Grassbird', 'XC304920 1': 'Bristled Grassbird', 'XC415699 0': 'Bristled Grassbird', 'XC582322 1': 'Bristled Grassbird', 'XC608596 3': 'Bristled Grassbird', 'XC646706 0': 'Bristled Grassbird', 'XC646708 7': 'Bristled Grassbird', 'XC121425 4': 'Cheer Pheasant', 'XC121425 6': 'Cheer Pheasant', 'XC121425 8': 'Cheer Pheasant', 'XC652380 1': 'Common Cuckoo', 'XC652380 21': 'Common Cuckoo', 'XC652620 4': 'Common Cuckoo', 'XC652621 1': 'Common Cuckoo', 'XC652624 1': 'Common Cuckoo', 'XC652625 1': 'Common Cuckoo', 'XC652628 0': 'Common Cuckoo', 'XC652638 0': 'Common Cuckoo', 'XC653084 2': 'Common Cuckoo', 'XC653084 6': 'Common Cuckoo', 'XC653108 0': 'Common Cuckoo', 'XC653694 11': 'Common Cuckoo', 'XC653694 13': 'Common Cuckoo', 'XC653694 24': 'Common Cuckoo', 'XC653694 26': 'Common Cuckoo', 'XC653694 46': 'Common Cuckoo', 'XC654296 1': 'Common Cuckoo', 'XC654767 0': 'Common Cuckoo', 'XC655455 1': 'Common Cuckoo', 'XC657011 1': 'Common Cuckoo', 'XC658892 5': 'Common Cuckoo', 'XC658892 6': 'Common Cuckoo', 'XC658894 1': 'Common Cuckoo', 'XC663475 13': 'Common Cuckoo', 'XC670353 0': 'Common Cuckoo', 'XC673118 0': 'Common Cuckoo', 'XC674126 1': 'Common Cuckoo', 'XC674542 3': 'Common Cuckoo', 'XC674542 5': 'Common Cuckoo', 'XC674542 7': 'Common Cuckoo', 'XC675040 1': 'Common Cuckoo', 'XC675282 0': 'Common Cuckoo', 'XC675305 0': 'Common Cuckoo', 'XC680026 2': 'Common Cuckoo', 'XC680026 4': 'Common Cuckoo', 'XC680026 6': 'Common Cuckoo', 'XC680030 3': 'Common Cuckoo', 'XC686904 0': 'Common Cuckoo', 'XC694850 18': 'Common Cuckoo', 'XC694850 29': 'Common Cuckoo', 'XC694850 35': 'Common Cuckoo', 'XC694850 57': 'Common Cuckoo', 'XC694850 61': 'Common Cuckoo', 'XC697738 1': 'Common Cuckoo', 'XC698072 3': 'Common Cuckoo', 'XC698077 4': 'Common Cuckoo', 'XC714370 0': 'Common Cuckoo', 'XC717409 1': 'Common Cuckoo', 'XC719912 original': 'Common Cuckoo', 'XC724505 1': 'Common Cuckoo', 'XC726558 6': 'Common Cuckoo', 'XC726852 3': 'Common Cuckoo', 'XC728701 1': 'Common Cuckoo', 'XC100624 0': 'Common Pochard', 'XC102816 1': 'Common Pochard', 'XC138809 original': 'Common Pochard', 'XC270238 1': 'Common Pochard', 'XC270396 0': 'Common Pochard', 'XC270397 2': 'Common Pochard', 'XC280913 0': 'Common Pochard', 'XC280914 5': 'Common Pochard', 'XC280914 7': 'Common Pochard', 'XC299728 1': 'Common Pochard', 'XC331077 original': 'Common Pochard', 'XC349107 0': 'Common Pochard', 'XC349116 12': 'Common Pochard', 'XC44719 -1': 'Common Pochard', 'XC467963 1': 'Common Pochard', 'XC468197 0': 'Common Pochard', 'XC523198 0': 'Common Pochard', 'XC591952 0': 'Common Pochard', 'XC592689 1': 'Common Pochard', 'XC592689 9': 'Common Pochard', 'XC625436 1': 'Common Pochard', 'XC634397 0': 'Common Pochard', 'XC641504 2': 'Common Pochard', 'XC649350 2': 'Common Pochard', 'XC719656 original': 'Common Pochard', 'XC84280 -0': 'Common Pochard', 'XC534761 0': 'Common Wood Pigeon', 'XC536577 1': 'Common Wood Pigeon', 'XC545506 1': 'Common Wood Pigeon', 'XC548925 3': 'Common Wood Pigeon', 'XC548931 3': 'Common Wood Pigeon', 'XC558782 12': 'Common Wood Pigeon', 'XC558782 2': 'Common Wood Pigeon', 'XC558840 9': 'Common Wood Pigeon', 'XC560633 7': 'Common Wood Pigeon', 'XC561877 3': 'Common Wood Pigeon', 'XC564161 1': 'Common Wood Pigeon', 'XC564161 2': 'Common Wood Pigeon', 'XC564161 6': 'Common Wood Pigeon', 'XC564161 8': 'Common Wood Pigeon', 'XC564410 1': 'Common Wood Pigeon', 'XC574126 3': 'Common Wood Pigeon', 'XC581645 original': 'Common Wood Pigeon', 'XC587539 original': 'Common Wood Pigeon', 'XC587645 4': 'Common Wood Pigeon', 'XC587645 9': 'Common Wood Pigeon', 'XC590890 original': 'Common Wood Pigeon', 'XC595388 3': 'Common Wood Pigeon', 'XC599691 1': 'Common Wood Pigeon', 'XC599691 3': 'Common Wood Pigeon', 'XC599692 1': 'Common Wood Pigeon', 'XC621415 6': 'Common Wood Pigeon', 'XC631064 21': 'Common Wood Pigeon', 'XC631064 26': 'Common Wood Pigeon', 'XC631222 0': 'Common Wood Pigeon', 'XC631299 0': 'Common Wood Pigeon', 'XC632023 1': 'Common Wood Pigeon', 'XC637396 3': 'Common Wood Pigeon', 'XC637609 14': 'Common Wood Pigeon', 'XC637609 3': 'Common Wood Pigeon', 'XC637609 4': 'Common Wood Pigeon', 'XC648349 5': 'Common Wood Pigeon', 'XC651508 2': 'Common Wood Pigeon', 'XC664084 1': 'Common Wood Pigeon', 'XC669640 7': 'Common Wood Pigeon', 'XC715716 0': 'Common Wood Pigeon', 'XC716757 0': 'Common Wood Pigeon', 'XC716978 10': 'Common Wood Pigeon', 'XC716978 3': 'Common Wood Pigeon', 'XC716978 9': 'Common Wood Pigeon', 'XC720861 1': 'Common Wood Pigeon', 'XC720864 4': 'Common Wood Pigeon', 'XC725384 13': 'Common Wood Pigeon', 'XC725733 2': 'Common Wood Pigeon', 'XC582820 original': 'Eastern Imperial Eagle', 'XC608533 3': 'Eastern Imperial Eagle', 'XC650776 2': 'Egyptian Vulture', 'XC650776 3': 'Egyptian Vulture', 'XC100459 0': 'Great Slaty Woodpecker', 'XC156648 0': 'Great Slaty Woodpecker', 'XC209688 0': 'Great Slaty Woodpecker', 'XC25971 -0': 'Great Slaty Woodpecker', 'XC308594 1': 'Great Slaty Woodpecker', 'XC31562 -1': 'Great Slaty Woodpecker', 'XC394980 2': 'Great Slaty Woodpecker', 'XC394980 3': 'Great Slaty Woodpecker', 'XC408525 1': 'Great Slaty Woodpecker', 'XC413817 1': 'Great Slaty Woodpecker', 'XC413817 4': 'Great Slaty Woodpecker', 'XC453729 2': 'Great Slaty Woodpecker', 'XC536097 1': 'Great Slaty Woodpecker', 'XC578021 3': 'Great Slaty Woodpecker', 'XC584152 0': 'Great Slaty Woodpecker', 'XC619113 2': 'Great Slaty Woodpecker', 'XC620140 1': 'Great Slaty Woodpecker', 'XC642406 1': 'Great Slaty Woodpecker', 'XC92627 -1': 'Great Slaty Woodpecker', 'XC95854 -0': 'Great Slaty Woodpecker', 'XC157014 0': 'Greater Spotted Eagle', 'XC240246 4': 'Greater Spotted Eagle', 'XC393309 5': 'Greater Spotted Eagle', 'XC417952 35': 'Greater Spotted Eagle', 'XC417952 41': 'Greater Spotted Eagle', 'XC417952 50': 'Greater Spotted Eagle', 'XC417952 51': 'Greater Spotted Eagle', 'XC417954 3': 'Greater Spotted Eagle', 'XC417954 6': 'Greater Spotted Eagle', 'XC417958 24': 'Greater Spotted Eagle', 'XC417958 39': 'Greater Spotted Eagle', 'XC417961 55': 'Greater Spotted Eagle', 'XC417961 63': 'Greater Spotted Eagle', 'XC417961 65': 'Greater Spotted Eagle', 'XC417961 66': 'Greater Spotted Eagle', 'XC417962 13': 'Greater Spotted Eagle', 'XC422336 1': 'Greater Spotted Eagle', 'XC422336 19': 'Greater Spotted Eagle', 'XC422336 25': 'Greater Spotted Eagle', 'XC422336 28': 'Greater Spotted Eagle', 'XC460234 2': 'Greater Spotted Eagle', 'XC591030 0': 'Greater Spotted Eagle', 'XC592129 0': 'Greater Spotted Eagle', 'XC592196 0': 'Greater Spotted Eagle', 'XC593592 4': 'Greater Spotted Eagle', 'XC593592 7': 'Greater Spotted Eagle', 'XC608363 0': 'Greater Spotted Eagle', 'XC105576 0': 'Grey Treepie', 'XC112793 7': 'Grey Treepie', 'XC170494 1': 'Grey Treepie', 'XC193205 1': 'Grey Treepie', 'XC19698 -0': 'Grey Treepie', 'XC210570 4': 'Grey Treepie', 'XC247316 original': 'Grey Treepie', 'XC306816 0': 'Grey Treepie', 'XC306816 4': 'Grey Treepie', 'XC306817 0': 'Grey Treepie', 'XC306817 12': 'Grey Treepie', 'XC306817 15': 'Grey Treepie', 'XC319493 1': 'Grey Treepie', 'XC349415 1': 'Grey Treepie', 'XC349416 1': 'Grey Treepie', 'XC352426 0': 'Grey Treepie', 'XC390762 0': 'Grey Treepie', 'XC407606 2': 'Grey Treepie', 'XC414354 1': 'Grey Treepie', 'XC448004 0': 'Grey Treepie', 'XC448004 2': 'Grey Treepie', 'XC463833 0': 'Grey Treepie', 'XC502779 3': 'Grey Treepie', 'XC598626 3': 'Grey Treepie', 'XC612009 10': 'Grey Treepie', 'XC612009 9': 'Grey Treepie', 'XC612012 1': 'Grey Treepie', 'XC612012 4': 'Grey Treepie', 'XC631049 1': 'Grey Treepie', 'XC664608 0': 'Grey Treepie', 'XC664608 2': 'Grey Treepie', 'XC664608 7': 'Grey Treepie', 'XC79458 -1': 'Grey Treepie', 'XC94105 -1': 'Grey Treepie', 'XC140787 4': 'Grey-crowned Prinia', 'XC472972 2': 'Grey-crowned Prinia', 'XC163544 3': 'Grey-sided Thrush', 'XC328323 5': 'Grey-sided Thrush', 'XC414447 0': 'Grey-sided Thrush', 'XC414447 4': 'Grey-sided Thrush', 'XC114358 2': 'Himalayan Monal', 'XC119993 7': 'Himalayan Monal', 'XC119993 8': 'Himalayan Monal', 'XC304567 1': 'Himalayan Monal', 'XC304567 3': 'Himalayan Monal', 'XC317228 1': 'Himalayan Monal', 'XC357107 1': 'Himalayan Monal', 'XC472784 4': 'Himalayan Monal', 'XC523178 1': 'Himalayan Monal', 'XC547426 0': 'Himalayan Monal', 'XC547801 6': 'Himalayan Monal', 'XC113090 0': 'House Crow', 'XC150647 original': 'House Crow', 'XC163861 0': 'House Crow', 'XC163862 0': 'House Crow', 'XC163863 1': 'House Crow', 'XC194310 1': 'House Crow', 'XC194310 4': 'House Crow', 'XC208278 9': 'House Crow', 'XC208875 1': 'House Crow', 'XC208879 0': 'House Crow', 'XC209000 original': 'House Crow', 'XC209018 1': 'House Crow', 'XC209201 0': 'House Crow', 'XC209201 1': 'House Crow', 'XC209201 3': 'House Crow', 'XC293565 1': 'House Crow', 'XC294461 3': 'House Crow', 'XC294461 5': 'House Crow', 'XC322403 1': 'House Crow', 'XC322403 6': 'House Crow', 'XC357593 2': 'House Crow', 'XC369130 0': 'House Crow', 'XC402083 2': 'House Crow', 'XC402083 4': 'House Crow', 'XC402083 7': 'House Crow', 'XC443066 original': 'House Crow', 'XC519656 3': 'House Crow', 'XC520666 1': 'House Crow', 'XC523319 4': 'House Crow', 'XC531724 0': 'House Crow', 'XC532303 1': 'House Crow', 'XC578839 4': 'House Crow', 'XC595475 18': 'House Crow', 'XC595475 21': 'House Crow', 'XC595475 22': 'House Crow', 'XC595475 3': 'House Crow', 'XC626467 3': 'House Crow', 'XC654147 2': 'House Crow', 'XC667033 2': 'House Crow', 'XC73378 -1': 'House Crow', 'XC628360 1': 'House Sparrow', 'XC628369 3': 'House Sparrow', 'XC632064 15': 'House Sparrow', 'XC632064 2': 'House Sparrow', 'XC632064 22': 'House Sparrow', 'XC632532 2': 'House Sparrow', 'XC632532 4': 'House Sparrow', 'XC635443 6': 'House Sparrow', 'XC637964 1': 'House Sparrow', 'XC638237 4': 'House Sparrow', 'XC639076 2': 'House Sparrow', 'XC639076 3': 'House Sparrow', 'XC639613 1': 'House Sparrow', 'XC639613 2': 'House Sparrow', 'XC639613 4': 'House Sparrow', 'XC642972 0': 'House Sparrow', 'XC643506 5': 'House Sparrow', 'XC643517 4': 'House Sparrow', 'XC644595 2': 'House Sparrow', 'XC645076 original': 'House Sparrow', 'XC645288 1': 'House Sparrow', 'XC645667 1': 'House Sparrow', 'XC648947 0': 'House Sparrow', 'XC648947 2': 'House Sparrow', 'XC649118 1': 'House Sparrow', 'XC656008 3': 'House Sparrow', 'XC678544 10': 'House Sparrow', 'XC678544 13': 'House Sparrow', 'XC680573 1': 'House Sparrow', 'XC685463 1': 'House Sparrow', 'XC687529 0': 'House Sparrow', 'XC691724 1': 'House Sparrow', 'XC697951 3': 'House Sparrow', 'XC698516 1': 'House Sparrow', 'XC698516 2': 'House Sparrow', 'XC698516 3': 'House Sparrow', 'XC705605 1': 'House Sparrow', 'XC710718 1': 'House Sparrow', 'XC716324 original': 'House Sparrow', 'XC729006 1': 'House Sparrow', 'XC588120 0': 'Indian Spotted Eagle', 'XC588120 1': 'Indian Spotted Eagle', 'XC292616 1': 'Jerdon_s Babbler', 'XC292616 4': 'Jerdon_s Babbler', 'XC354661 0': 'Jerdon_s Babbler', 'XC426472 1': 'Jerdon_s Babbler', 'XC453477 0': 'Kashmir Flycatcher', 'XC488386 0': 'Kashmir Flycatcher', 'XC488386 3': 'Kashmir Flycatcher', 'XC566242 2': 'Kashmir Flycatcher', 'XC104171 original': 'Large-billed Crow', 'XC116711 6': 'Large-billed Crow', 'XC156093 10': 'Large-billed Crow', 'XC156094 4': 'Large-billed Crow', 'XC156095 0': 'Large-billed Crow', 'XC156097 4': 'Large-billed Crow', 'XC156330 3': 'Large-billed Crow', 'XC156330 8': 'Large-billed Crow', 'XC156331 4': 'Large-billed Crow', 'XC156331 5': 'Large-billed Crow', 'XC156335 0': 'Large-billed Crow', 'XC156335 4': 'Large-billed Crow', 'XC191116 1': 'Large-billed Crow', 'XC194860 original': 'Large-billed Crow', 'XC195058 0': 'Large-billed Crow', 'XC195931 0': 'Large-billed Crow', 'XC196199 2': 'Large-billed Crow', 'XC201735 0': 'Large-billed Crow', 'XC201735 2': 'Large-billed Crow', 'XC267644 1': 'Large-billed Crow', 'XC285700 1': 'Large-billed Crow', 'XC285700 4': 'Large-billed Crow', 'XC359290 1': 'Large-billed Crow', 'XC523445 7': 'Large-billed Crow', 'XC530533 3': 'Large-billed Crow', 'XC547493 7': 'Large-billed Crow', 'XC547493 9': 'Large-billed Crow', 'XC547494 2': 'Large-billed Crow', 'XC547589 9': 'Large-billed Crow', 'XC547822 5': 'Large-billed Crow', 'XC547823 0': 'Large-billed Crow', 'XC547823 2': 'Large-billed Crow', 'XC626468 2': 'Large-billed Crow', 'XC659331 original': 'Large-billed Crow', 'XC692668 5': 'Large-billed Crow', 'XC724412 1': 'Large-billed Crow', 'XC106033 0': 'Long-tailed Duck', 'XC120198 1': 'Long-tailed Duck', 'XC263941 0': 'Long-tailed Duck', 'XC295360 1': 'Long-tailed Duck', 'XC314383 1': 'Long-tailed Duck', 'XC327998 1': 'Long-tailed Duck', 'XC340619 0': 'Long-tailed Duck', 'XC409606 0': 'Long-tailed Duck', 'XC409606 1': 'Long-tailed Duck', 'XC413041 1': 'Long-tailed Duck', 'XC413041 8': 'Long-tailed Duck', 'XC420216 2': 'Long-tailed Duck', 'XC465438 4': 'Long-tailed Duck', 'XC522505 original': 'Long-tailed Duck', 'XC559116 3': 'Long-tailed Duck', 'XC559116 4': 'Long-tailed Duck', 'XC640564 0': 'Long-tailed Duck', 'XC660261 0': 'Long-tailed Duck', 'XC698935 0': 'Long-tailed Duck', 'XC699015 6': 'Long-tailed Duck', 'XC721713 3': 'Long-tailed Duck', 'XC725574 3': 'Long-tailed Duck', 'XC725574 7': 'Long-tailed Duck', 'XC21201 -1': 'Pallas_s Fish Eagle', 'XC344060 original': 'Pallas_s Fish Eagle', 'XC113360 1': 'Red-billed Blue Magpie', 'XC161690 0': 'Red-billed Blue Magpie', 'XC183397 4': 'Red-billed Blue Magpie', 'XC207211 0': 'Red-billed Blue Magpie', 'XC23990 -1': 'Red-billed Blue Magpie', 'XC265914 4': 'Red-billed Blue Magpie', 'XC299798 0': 'Red-billed Blue Magpie', 'XC304357 11': 'Red-billed Blue Magpie', 'XC304357 12': 'Red-billed Blue Magpie', 'XC304357 15': 'Red-billed Blue Magpie', 'XC304357 5': 'Red-billed Blue Magpie', 'XC305062 2': 'Red-billed Blue Magpie', 'XC324554 1': 'Red-billed Blue Magpie', 'XC446406 8': 'Red-billed Blue Magpie', 'XC473125 1': 'Red-billed Blue Magpie', 'XC473125 2': 'Red-billed Blue Magpie', 'XC547729 4': 'Red-billed Blue Magpie', 'XC575073 0': 'Red-billed Blue Magpie', 'XC627696 0': 'Red-billed Blue Magpie', 'XC694493 2': 'Red-billed Blue Magpie', 'XC720150 7': 'Red-billed Blue Magpie', 'XC720150 8': 'Red-billed Blue Magpie', 'XC333404 1': 'Rose-ringed Parakeet', 'XC348243 27': 'Rose-ringed Parakeet', 'XC447309 0': 'Rose-ringed Parakeet', 'XC464292 0': 'Rose-ringed Parakeet', 'XC471332 0': 'Rose-ringed Parakeet', 'XC475257 0': 'Rose-ringed Parakeet', 'XC509463 1': 'Rose-ringed Parakeet', 'XC516402 0': 'Rose-ringed Parakeet', 'XC518996 1': 'Rose-ringed Parakeet', 'XC518996 3': 'Rose-ringed Parakeet', 'XC518999 0': 'Rose-ringed Parakeet', 'XC522614 1': 'Rose-ringed Parakeet', 'XC522975 17': 'Rose-ringed Parakeet', 'XC522975 23': 'Rose-ringed Parakeet', 'XC522975 27': 'Rose-ringed Parakeet', 'XC522975 5': 'Rose-ringed Parakeet', 'XC523065 1': 'Rose-ringed Parakeet', 'XC534457 0': 'Rose-ringed Parakeet', 'XC545568 0': 'Rose-ringed Parakeet', 'XC563328 1': 'Rose-ringed Parakeet', 'XC568863 0': 'Rose-ringed Parakeet', 'XC568868 2': 'Rose-ringed Parakeet', 'XC612032 original': 'Rose-ringed Parakeet', 'XC650137 18': 'Rose-ringed Parakeet', 'XC650137 21': 'Rose-ringed Parakeet', 'XC669425 original': 'Rose-ringed Parakeet', 'XC679949 1': 'Rose-ringed Parakeet', 'XC680457 2': 'Rose-ringed Parakeet', 'XC680464 2': 'Rose-ringed Parakeet', 'XC691768 0': 'Rose-ringed Parakeet', 'XC691768 1': 'Rose-ringed Parakeet', 'XC120592 0': 'Rufous Treepie', 'XC161257 1': 'Rufous Treepie', 'XC177550 1': 'Rufous Treepie', 'XC177556 1': 'Rufous Treepie', 'XC187591 0': 'Rufous Treepie', 'XC21129 -0': 'Rufous Treepie', 'XC240364 0': 'Rufous Treepie', 'XC276822 original': 'Rufous Treepie', 'XC283556 4': 'Rufous Treepie', 'XC283556 5': 'Rufous Treepie', 'XC310803 original': 'Rufous Treepie', 'XC319388 2': 'Rufous Treepie', 'XC369140 original': 'Rufous Treepie', 'XC379639 2': 'Rufous Treepie', 'XC383773 1': 'Rufous Treepie', 'XC400122 0': 'Rufous Treepie', 'XC403960 2': 'Rufous Treepie', 'XC425927 3': 'Rufous Treepie', 'XC42639 -3': 'Rufous Treepie', 'XC446105 1': 'Rufous Treepie', 'XC44937 -0': 'Rufous Treepie', 'XC460134 1': 'Rufous Treepie', 'XC510590 1': 'Rufous Treepie', 'XC577951 0': 'Rufous Treepie', 'XC585014 1': 'Rufous Treepie', 'XC603708 0': 'Rufous Treepie', 'XC603708 2': 'Rufous Treepie', 'XC607206 1': 'Rufous Treepie', 'XC627915 6': 'Rufous Treepie', 'XC627917 0': 'Rufous Treepie', 'XC88122 -2': 'Rufous Treepie', 'XC21936 -0': 'Rufous-necked Hornbill', 'XC21936 -3': 'Rufous-necked Hornbill', 'XC21936 -4': 'Rufous-necked Hornbill', 'XC35517 -1': 'Rufous-necked Hornbill', 'XC79446 -1': 'Rufous-necked Hornbill', 'XC118257 1': 'Rustic Bunting', 'XC268398 1': 'Rustic Bunting', 'XC309380 21': 'Rustic Bunting', 'XC309380 9': 'Rustic Bunting', 'XC309381 1': 'Rustic Bunting', 'XC309381 22': 'Rustic Bunting', 'XC309381 8': 'Rustic Bunting', 'XC383559 1': 'Rustic Bunting', 'XC383560 1': 'Rustic Bunting', 'XC383560 2': 'Rustic Bunting', 'XC383560 5': 'Rustic Bunting', 'XC383561 2': 'Rustic Bunting', 'XC513484 0': 'Rustic Bunting', 'XC562284 1': 'Rustic Bunting', 'XC562337 0': 'Rustic Bunting', 'XC562337 14': 'Rustic Bunting', 'XC562337 18': 'Rustic Bunting', 'XC593259 2': 'Rustic Bunting', 'XC603060 2': 'Rustic Bunting', 'XC629362 0': 'Rustic Bunting', 'XC629362 2': 'Rustic Bunting', 'XC637783 2': 'Rustic Bunting', 'XC657062 0': 'Rustic Bunting', 'XC675269 0': 'Rustic Bunting', 'XC675290 1': 'Rustic Bunting', 'XC676152 21': 'Rustic Bunting', 'XC676152 28': 'Rustic Bunting', 'XC676152 5': 'Rustic Bunting', 'XC681489 1': 'Rustic Bunting', 'XC710852 1': 'Rustic Bunting', 'XC710852 2': 'Rustic Bunting', 'XC412092 6': 'Saker Falcon', 'XC412093 0': 'Saker Falcon', 'XC412093 2': 'Saker Falcon', 'XC452291 6': 'Saker Falcon', 'XC37593 -3': 'Sarus Crane', 'XC439282 3': 'Sarus Crane', 'XC439282 4': 'Sarus Crane', 'XC439284 1': 'Sarus Crane', 'XC454331 0': 'Sarus Crane', 'XC460159 1': 'Sarus Crane', 'XC510659 0': 'Sarus Crane', 'XC577049 original': 'Sarus Crane', 'XC617830 original': 'Sarus Crane', 'XC342264 3': 'Satyr Tragopan', 'XC37594 -0': 'Satyr Tragopan', 'XC380347 0': 'Satyr Tragopan', 'XC633485 1': 'Satyr Tragopan', 'XC201053 1': 'Slender-billed Babbler', 'XC347458 1': 'Slender-billed Babbler', 'XC362914 0': 'Slender-billed Babbler', 'XC426985 0': 'Slender-billed Babbler', 'XC663392 0': 'Slender-billed Babbler', 'XC361950 3': 'Spiny Babbler', 'XC361952 3': 'Spiny Babbler', 'XC361952 4': 'Spiny Babbler', 'XC361953 1': 'Spiny Babbler', 'XC361954 0': 'Spiny Babbler', 'XC361954 14': 'Spiny Babbler', 'XC361954 19': 'Spiny Babbler', 'XC375658 4': 'Spiny Babbler', 'XC108878 1': 'Spotted Dove', 'XC124409 0': 'Spotted Dove', 'XC175220 1': 'Spotted Dove', 'XC179204 2': 'Spotted Dove', 'XC183207 2': 'Spotted Dove', 'XC190962 0': 'Spotted Dove', 'XC190962 2': 'Spotted Dove', 'XC203259 0': 'Spotted Dove', 'XC206552 0': 'Spotted Dove', 'XC206552 5': 'Spotted Dove', 'XC208677 1': 'Spotted Dove', 'XC214010 0': 'Spotted Dove', 'XC233699 original': 'Spotted Dove', 'XC240369 original': 'Spotted Dove', 'XC245917 1': 'Spotted Dove', 'XC304103 0': 'Spotted Dove', 'XC311498 2': 'Spotted Dove', 'XC311499 0': 'Spotted Dove', 'XC312465 2': 'Spotted Dove', 'XC319809 0': 'Spotted Dove', 'XC348751 original': 'Spotted Dove', 'XC359362 0': 'Spotted Dove', 'XC369546 1': 'Spotted Dove', 'XC369546 3': 'Spotted Dove', 'XC369547 2': 'Spotted Dove', 'XC447267 2': 'Spotted Dove', 'XC519900 2': 'Spotted Dove', 'XC519900 5': 'Spotted Dove', 'XC566000 0': 'Spotted Dove', 'XC595461 0': 'Spotted Dove', 'XC595461 3': 'Spotted Dove', 'XC647196 1': 'Spotted Dove', 'XC665481 0': 'Spotted Dove', 'XC665481 3': 'Spotted Dove', 'XC665481 6': 'Spotted Dove', 'XC710640 7': 'Spotted Dove', 'XC723482 0': 'Spotted Dove', 'XC724141 3': 'Spotted Dove', 'XC724143 3': 'Spotted Dove', 'XC90551 -0': 'Spotted Dove', 'XC90825 -2': 'Spotted Dove', 'XC145106 2': 'Steppe Eagle', 'XC184828 1': 'Steppe Eagle', 'XC35558 -1': 'Swamp Francolin', 'XC35558 -3': 'Swamp Francolin', 'XC37607 -0': 'Swamp Francolin', 'XC635402 original': 'Swamp Francolin', 'XC292617 original': 'Swamp Grass-babbler', 'XC447916 0': 'Swamp Grass-babbler', 'XC447918 0': 'Swamp Grass-babbler', 'XC608312 0': 'Swamp Grass-babbler', 'XC162636 1': 'White-throated Bushchat', 'XC452256 1': 'White-throated Bushchat', 'XC158568 9': 'Wood Snipe', 'XC158569 2': 'Wood Snipe', 'XC158569 4': 'Wood Snipe', 'XC158571 2': 'Wood Snipe'}\n"
     ]
    }
   ],
   "source": [
    "fileLabeled = {}\n",
    "\n",
    "for folderName in foldersInTest:\n",
    "    PATH_TO_FOLDER = os.path.join(TEST_DATA_PATH, folderName)\n",
    "\n",
    "    filesInFolder = listdir(PATH_TO_FOLDER)\n",
    "    \n",
    "    for fileNameWav in filesInFolder:\n",
    "        splitName = fileNameWav.split('.')\n",
    "        fileLabeled[splitName[0]] = folderName\n",
    "        \n",
    "print(fileLabeled)"
   ]
  },
  {
   "cell_type": "code",
   "execution_count": 6,
   "metadata": {},
   "outputs": [],
   "source": [
    "fileNames = tf.random.shuffle(glob(TEST_DATA_PATH+'\\\\*\\\\*'))"
   ]
  },
  {
   "cell_type": "code",
   "execution_count": 7,
   "metadata": {},
   "outputs": [],
   "source": [
    "allTestFiles = tf.io.read_file(fileNames[0])"
   ]
  },
  {
   "cell_type": "code",
   "execution_count": 8,
   "metadata": {},
   "outputs": [],
   "source": [
    "test_audio, samplerate = tf.audio.decode_wav(contents=allTestFiles)"
   ]
  }
 ],
 "metadata": {
  "kernelspec": {
   "display_name": "Python 3",
   "language": "python",
   "name": "python3"
  },
  "language_info": {
   "codemirror_mode": {
    "name": "ipython",
    "version": 3
   },
   "file_extension": ".py",
   "mimetype": "text/x-python",
   "name": "python",
   "nbconvert_exporter": "python",
   "pygments_lexer": "ipython3",
   "version": "3.10.11"
  }
 },
 "nbformat": 4,
 "nbformat_minor": 2
}
